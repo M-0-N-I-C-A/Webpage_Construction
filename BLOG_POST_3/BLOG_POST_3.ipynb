{
 "cells": [
  {
   "cell_type": "markdown",
   "id": "eb1491c1",
   "metadata": {},
   "source": [
    "### Let's build a webpage!\n",
    "write a tutorial describing how you constructed your webpage"
   ]
  },
  {
   "cell_type": "markdown",
   "id": "fc46f555",
   "metadata": {},
   "source": [
    "link to the GitHub repository: "
   ]
  },
  {
   "cell_type": "markdown",
   "id": "05ffda19",
   "metadata": {},
   "source": [
    "### 1. Python Functions"
   ]
  },
  {
   "cell_type": "markdown",
   "id": "157712cb",
   "metadata": {},
   "source": [
    "**1.1 get_message_db( )**\n",
    "\n",
    "The function get_message_db( ) handles creating the database of messages.\n",
    "\n",
    "It first checks whether there is a database called message_db in the g attribute of the app. If not, then connect to that database, ensuring that the connection is an attribute of g. \n",
    "\n",
    "Then it checks whether a table called messages exists in message_db, and create it if not. It will give the table an id column (integer), a handle column (text), a message column (text), and return the connection g.message_db."
   ]
  },
  {
   "cell_type": "code",
   "execution_count": null,
   "id": "89d6d9a8",
   "metadata": {},
   "outputs": [],
   "source": [
    "def get_message_db():\n",
    "    if 'message_db' not in g:\n",
    "        g.message_db = sqlite3.connect('message_db.sqlite')\n",
    "\n",
    "    cursor = g.message_db.cursor()\n",
    "    cmd = \"\"\"CREATE TABLE IF NOT EXISTS messages(id INTEGER, handle TEXT, message TEXT)\"\"\"\n",
    "    cursor.execute(cmd)\n",
    "    return g.message_db"
   ]
  },
  {
   "cell_type": "markdown",
   "id": "7b4e8fac",
   "metadata": {},
   "source": [
    "**1.2 insert_message(request)**\n",
    "\n",
    "The function insert_message(request) handles inserting a user message into the database of messages.\n",
    "\n",
    "It first extracts the message and the handle from request. Meanwhile we need to ensure that the submit.html template creates these fields from user input by appropriately specifying the name of the input elements. \n",
    "\n",
    "Next, use a cursor to insert the message *(an ID number, the handle, and the message itself)* into the message database. Note: it is necessary to run db.commit() after inserting a row into db in order to ensure that the row insertion has been saved.\n",
    "\n",
    "To ensure the ID number of each message is unique by setting the ID number of a message equal to one plus the current number of rows in message_db.\n",
    "\n",
    "Close the database connection within the function."
   ]
  },
  {
   "cell_type": "code",
   "execution_count": 2,
   "id": "69d4146a",
   "metadata": {},
   "outputs": [],
   "source": [
    "def insert_message(request):\n",
    "    handle = request.form['handle']\n",
    "    message = request.form['message']\n",
    "    \n",
    "    db = get_message_db()\n",
    "    cursor = db.cursor()\n",
    "    cmd = \"\"\"SELECT COUNT(*) FROM messages\"\"\"\n",
    "    \n",
    "    cursor.execute(cmd)\n",
    "    db.execute(f\"\"\" INSERT INTO messages(id, handle, message) VALUES ({cursor.fetchone()[0]+1}, \"{handle}\", \"{message}\");\"\"\")\n",
    "    db.commit()\n",
    "    db.close()"
   ]
  },
  {
   "cell_type": "markdown",
   "id": "364ef9bf",
   "metadata": {},
   "source": [
    "**1.3 random_messages(n)**\n",
    "\n",
    "The function random_messages(n) returns a collection of n random messages from the message_db, or fewer if necessary.\n",
    "\n",
    "Close the database connection within the function."
   ]
  },
  {
   "cell_type": "code",
   "execution_count": null,
   "id": "415cc6ad",
   "metadata": {},
   "outputs": [],
   "source": [
    "def random_messages(n):\n",
    "    db = get_message_db()\n",
    "    cursor = db.cursor()\n",
    "    cmd = f\"\"\"SELECT * FROM messages LIMIT {n}\"\"\"\n",
    "    \n",
    "    cursor.execute(cmd)\n",
    "    data = cursor.fetchall()\n",
    "    db.close()\n",
    "    return data"
   ]
  },
  {
   "cell_type": "markdown",
   "id": "f146ed23",
   "metadata": {},
   "source": [
    "**1.4 main( )**\n",
    "\n",
    "The main( ) function renders the main_better.html, which will be the main page when users first access the webpage."
   ]
  },
  {
   "cell_type": "code",
   "execution_count": 3,
   "id": "8709c5c0",
   "metadata": {},
   "outputs": [],
   "source": [
    "@app.route(\"/\")\n",
    "def main():\n",
    "    return render_template(\"main_better.html\")"
   ]
  },
  {
   "cell_type": "markdown",
   "id": "ee44f126",
   "metadata": {},
   "source": [
    "**1.5 submit( )**\n",
    "\n",
    "The submit( ) function supports both the 'POST' and the 'GET' method. \n",
    "\n",
    "In the POST case, if it calls the function insert_message( ) successfully, it then renders the submit.html template and display a \"Thank You For Your Submission!\". Otherwise, it will display an error message \"Submission Failed.\"\n",
    "\n",
    "In the GET case, which is the default method, it just renders the submit.html template with no other parameters. "
   ]
  },
  {
   "cell_type": "code",
   "execution_count": null,
   "id": "af18a05b",
   "metadata": {},
   "outputs": [],
   "source": [
    "@app.route('/submit/', methods=['POST', 'GET'])\n",
    "def submit():\n",
    "    if request.method == 'POST':\n",
    "        try:\n",
    "            insert_message(request)\n",
    "            return render_template('submit.html', submission = True)\n",
    "        except:\n",
    "            return render_template('submit.html', failure = True)\n",
    "    return render_template('submit.html')"
   ]
  },
  {
   "cell_type": "markdown",
   "id": "9def3f8c",
   "metadata": {},
   "source": [
    "**1.6 view( )**\n",
    "\n",
    "The view( ) function renders the view.html template and displays the messages extracted from random_messages(n)."
   ]
  },
  {
   "cell_type": "code",
   "execution_count": 4,
   "id": "ea05adc2",
   "metadata": {},
   "outputs": [],
   "source": [
    "def view():\n",
    "    messages=random_messages(8)\n",
    "    return render_template('view.html', messages=messages)"
   ]
  },
  {
   "cell_type": "markdown",
   "id": "20e09642",
   "metadata": {},
   "source": [
    "**1.7 viewall( )**\n",
    "\n",
    "The viewall( ) function renders the viewall.html template and displays all the messages submitted to the webpage."
   ]
  },
  {
   "cell_type": "code",
   "execution_count": null,
   "id": "d06d6a7f",
   "metadata": {},
   "outputs": [],
   "source": [
    "def viewall():\n",
    "    db = get_message_db()\n",
    "    messages = db.execute(\"SELECT * FROM messages\").fetchall()\n",
    "    return render_template('viewall.html', messages = messages)"
   ]
  },
  {
   "cell_type": "markdown",
   "id": "47f60777",
   "metadata": {},
   "source": [
    "A discussion of at least one of the template files you used in your app. You can copy the source code of the template file into your markdown post."
   ]
  },
  {
   "cell_type": "markdown",
   "id": "876a9564",
   "metadata": {},
   "source": [
    "### 2. Template Files"
   ]
  },
  {
   "cell_type": "markdown",
   "id": "9c84abca",
   "metadata": {},
   "source": [
    "**Example: submit.html**\n",
    "\n",
    "submit.html extends base.html, which contains the nagivation links to main, submit, view, and view all.\n",
    "\n",
    "The block header contains the title of the page at the top.\n",
    "\n",
    "The block content contains 3 features on the page, where \"Username\" allows the users to enter their names and \"Message\" allows the users to enter messages. The \"submit\" button checks check whether a submission is successful.\n",
    "\n",
    "If submission is successful, the page will display a thank you message and if not, will give a failure message."
   ]
  },
  {
   "cell_type": "markdown",
   "id": "c1abcd63",
   "metadata": {},
   "source": [
    "{% extends 'base.html' %}\n",
    "\n",
    "{% block header %}\n",
    "  <h1>{% block title %}Submit{% endblock %}</h1>\n",
    "{% endblock %}\n",
    "\n",
    "{% block content %}\n",
    "  <form method=\"post\" enctype=\"multipart/form-data\">\n",
    "    <br>\n",
    "    <label for=\"name\"><h10>Username:</h10> </label>\n",
    "    <input type=\"text\" name=\"handle\" id=\"handle\">\n",
    "    <br>\n",
    "    <br>\n",
    "    <label for=\"message\"><h10>Message:</h10></label>\n",
    "    <input type=\"text\" name=\"message\" id=\"message\">\n",
    "    <br>\n",
    "    <br>\n",
    "    <input type=\"submit\" value=\"Submit\">\n",
    "    <br>\n",
    "  </form>\n",
    "\n",
    "  {% if submission %}\n",
    "    <br>\n",
    "    Thank You For Your Submission!\n",
    "  {% endif %}\n",
    "\n",
    "  {% if failure %}\n",
    "    <br>\n",
    "    Submission Failed.\n",
    "  {% endif %}\n",
    "\n",
    "{% endblock %}"
   ]
  },
  {
   "cell_type": "code",
   "execution_count": null,
   "id": "bba2ab78",
   "metadata": {},
   "outputs": [],
   "source": []
  },
  {
   "cell_type": "markdown",
   "id": "5f67519e",
   "metadata": {},
   "source": [
    "Your blog post must include two screencaps:"
   ]
  },
  {
   "cell_type": "markdown",
   "id": "39663674",
   "metadata": {},
   "source": [
    "### 3. Screencaps"
   ]
  },
  {
   "cell_type": "markdown",
   "id": "22b6d625",
   "metadata": {},
   "source": [
    "**3.1 A user submitting a message.**"
   ]
  },
  {
   "cell_type": "code",
   "execution_count": null,
   "id": "a2a2484f",
   "metadata": {},
   "outputs": [],
   "source": []
  },
  {
   "cell_type": "markdown",
   "id": "85d2e4c1",
   "metadata": {},
   "source": [
    "**3.2 A user viewing submitted messages.** "
   ]
  },
  {
   "cell_type": "code",
   "execution_count": null,
   "id": "a6b1cf6f",
   "metadata": {},
   "outputs": [],
   "source": []
  },
  {
   "cell_type": "markdown",
   "id": "bdc60706",
   "metadata": {},
   "source": [
    "Additionally, please include in your blog post a link to the GitHub repository containing the code for your app."
   ]
  },
  {
   "cell_type": "code",
   "execution_count": null,
   "id": "3a3cbaba",
   "metadata": {},
   "outputs": [],
   "source": []
  }
 ],
 "metadata": {
  "kernelspec": {
   "display_name": "Python 3",
   "language": "python",
   "name": "python3"
  },
  "language_info": {
   "codemirror_mode": {
    "name": "ipython",
    "version": 3
   },
   "file_extension": ".py",
   "mimetype": "text/x-python",
   "name": "python",
   "nbconvert_exporter": "python",
   "pygments_lexer": "ipython3",
   "version": "3.8.8"
  }
 },
 "nbformat": 4,
 "nbformat_minor": 5
}
